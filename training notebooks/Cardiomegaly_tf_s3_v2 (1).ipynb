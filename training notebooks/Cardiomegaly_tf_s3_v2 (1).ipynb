{
 "cells": [
  {
   "cell_type": "markdown",
   "id": "201c199a",
   "metadata": {},
   "source": [
    "# Implement TensorFlow Model in Sagemaker with S3"
   ]
  },
  {
   "cell_type": "markdown",
   "id": "fba66fac",
   "metadata": {},
   "source": [
    "Kernel: conda_amazonei_tensorflow2_p36"
   ]
  },
  {
   "cell_type": "markdown",
   "id": "7fd363b5",
   "metadata": {},
   "source": [
    "### Install packages"
   ]
  },
  {
   "cell_type": "code",
   "execution_count": 2,
   "id": "536746c7",
   "metadata": {},
   "outputs": [
    {
     "name": "stdout",
     "output_type": "stream",
     "text": [
      "Looking in indexes: https://pypi.org/simple, https://pip.repos.neuron.amazonaws.com\n",
      "Requirement already satisfied: boto3 in /home/ec2-user/anaconda3/envs/tensorflow2_p38/lib/python3.8/site-packages (1.24.38)\n",
      "Requirement already satisfied: keras in /home/ec2-user/anaconda3/envs/tensorflow2_p38/lib/python3.8/site-packages (2.7.0)\n",
      "Requirement already satisfied: s3fs in /home/ec2-user/anaconda3/envs/tensorflow2_p38/lib/python3.8/site-packages (0.4.0)\n",
      "Requirement already satisfied: tensorflow in /home/ec2-user/anaconda3/envs/tensorflow2_p38/lib/python3.8/site-packages (2.7.1)\n",
      "Collecting pyprind\n",
      "  Downloading PyPrind-2.11.3-py2.py3-none-any.whl (8.4 kB)\n",
      "Collecting botocore<1.28.0,>=1.27.38\n",
      "  Downloading botocore-1.27.43-py3-none-any.whl (9.0 MB)\n",
      "\u001b[2K     \u001b[90m━━━━━━━━━━━━━━━━━━━━━━━━━━━━━━━━━━━━━━━━\u001b[0m \u001b[32m9.0/9.0 MB\u001b[0m \u001b[31m82.6 MB/s\u001b[0m eta \u001b[36m0:00:00\u001b[0m:00:01\u001b[0m0:01\u001b[0m\n",
      "\u001b[?25hRequirement already satisfied: s3transfer<0.7.0,>=0.6.0 in /home/ec2-user/anaconda3/envs/tensorflow2_p38/lib/python3.8/site-packages (from boto3) (0.6.0)\n",
      "Requirement already satisfied: jmespath<2.0.0,>=0.7.1 in /home/ec2-user/anaconda3/envs/tensorflow2_p38/lib/python3.8/site-packages (from boto3) (0.10.0)\n",
      "Requirement already satisfied: fsspec>=0.6.0 in /home/ec2-user/anaconda3/envs/tensorflow2_p38/lib/python3.8/site-packages (from s3fs) (2021.11.1)\n",
      "Requirement already satisfied: astunparse>=1.6.0 in /home/ec2-user/anaconda3/envs/tensorflow2_p38/lib/python3.8/site-packages (from tensorflow) (1.6.3)\n",
      "Requirement already satisfied: tensorflow-estimator<2.8,~=2.7.0rc0 in /home/ec2-user/anaconda3/envs/tensorflow2_p38/lib/python3.8/site-packages (from tensorflow) (2.7.0)\n",
      "Requirement already satisfied: google-pasta>=0.1.1 in /home/ec2-user/anaconda3/envs/tensorflow2_p38/lib/python3.8/site-packages (from tensorflow) (0.2.0)\n",
      "Requirement already satisfied: opt-einsum>=2.3.2 in /home/ec2-user/anaconda3/envs/tensorflow2_p38/lib/python3.8/site-packages (from tensorflow) (3.3.0)\n",
      "Requirement already satisfied: grpcio<2.0,>=1.24.3 in /home/ec2-user/anaconda3/envs/tensorflow2_p38/lib/python3.8/site-packages (from tensorflow) (1.41.0)\n",
      "Requirement already satisfied: wheel<1.0,>=0.32.0 in /home/ec2-user/anaconda3/envs/tensorflow2_p38/lib/python3.8/site-packages (from tensorflow) (0.37.0)\n",
      "Requirement already satisfied: tensorboard~=2.6 in /home/ec2-user/anaconda3/envs/tensorflow2_p38/lib/python3.8/site-packages (from tensorflow) (2.8.0)\n",
      "Requirement already satisfied: wrapt>=1.11.0 in /home/ec2-user/anaconda3/envs/tensorflow2_p38/lib/python3.8/site-packages (from tensorflow) (1.12.1)\n",
      "Requirement already satisfied: flatbuffers<3.0,>=1.12 in /home/ec2-user/anaconda3/envs/tensorflow2_p38/lib/python3.8/site-packages (from tensorflow) (2.0)\n",
      "Requirement already satisfied: protobuf>=3.9.2 in /home/ec2-user/anaconda3/envs/tensorflow2_p38/lib/python3.8/site-packages (from tensorflow) (3.19.1)\n",
      "Requirement already satisfied: termcolor>=1.1.0 in /home/ec2-user/anaconda3/envs/tensorflow2_p38/lib/python3.8/site-packages (from tensorflow) (1.1.0)\n",
      "Requirement already satisfied: typing-extensions>=3.6.6 in /home/ec2-user/anaconda3/envs/tensorflow2_p38/lib/python3.8/site-packages (from tensorflow) (3.10.0.2)\n",
      "Requirement already satisfied: numpy>=1.14.5 in /home/ec2-user/anaconda3/envs/tensorflow2_p38/lib/python3.8/site-packages (from tensorflow) (1.20.3)\n",
      "Requirement already satisfied: gast<0.5.0,>=0.2.1 in /home/ec2-user/anaconda3/envs/tensorflow2_p38/lib/python3.8/site-packages (from tensorflow) (0.4.0)\n",
      "Requirement already satisfied: keras-preprocessing>=1.1.1 in /home/ec2-user/anaconda3/envs/tensorflow2_p38/lib/python3.8/site-packages (from tensorflow) (1.1.2)\n",
      "Requirement already satisfied: libclang>=9.0.1 in /home/ec2-user/anaconda3/envs/tensorflow2_p38/lib/python3.8/site-packages (from tensorflow) (13.0.0)\n",
      "Requirement already satisfied: six>=1.12.0 in /home/ec2-user/anaconda3/envs/tensorflow2_p38/lib/python3.8/site-packages (from tensorflow) (1.16.0)\n",
      "Requirement already satisfied: tensorflow-io-gcs-filesystem>=0.21.0 in /home/ec2-user/anaconda3/envs/tensorflow2_p38/lib/python3.8/site-packages (from tensorflow) (0.24.0)\n",
      "Requirement already satisfied: absl-py>=0.4.0 in /home/ec2-user/anaconda3/envs/tensorflow2_p38/lib/python3.8/site-packages (from tensorflow) (1.0.0)\n",
      "Requirement already satisfied: h5py>=2.9.0 in /home/ec2-user/anaconda3/envs/tensorflow2_p38/lib/python3.8/site-packages (from tensorflow) (3.4.0)\n",
      "Requirement already satisfied: python-dateutil<3.0.0,>=2.1 in /home/ec2-user/anaconda3/envs/tensorflow2_p38/lib/python3.8/site-packages (from botocore<1.28.0,>=1.27.38->boto3) (2.8.2)\n",
      "Requirement already satisfied: urllib3<1.27,>=1.25.4 in /home/ec2-user/anaconda3/envs/tensorflow2_p38/lib/python3.8/site-packages (from botocore<1.28.0,>=1.27.38->boto3) (1.26.8)\n",
      "Requirement already satisfied: requests<3,>=2.21.0 in /home/ec2-user/anaconda3/envs/tensorflow2_p38/lib/python3.8/site-packages (from tensorboard~=2.6->tensorflow) (2.26.0)\n",
      "Requirement already satisfied: werkzeug>=0.11.15 in /home/ec2-user/anaconda3/envs/tensorflow2_p38/lib/python3.8/site-packages (from tensorboard~=2.6->tensorflow) (2.0.3)\n",
      "Requirement already satisfied: tensorboard-plugin-wit>=1.6.0 in /home/ec2-user/anaconda3/envs/tensorflow2_p38/lib/python3.8/site-packages (from tensorboard~=2.6->tensorflow) (1.8.1)\n",
      "Requirement already satisfied: markdown>=2.6.8 in /home/ec2-user/anaconda3/envs/tensorflow2_p38/lib/python3.8/site-packages (from tensorboard~=2.6->tensorflow) (3.3.6)\n",
      "Requirement already satisfied: setuptools>=41.0.0 in /home/ec2-user/anaconda3/envs/tensorflow2_p38/lib/python3.8/site-packages (from tensorboard~=2.6->tensorflow) (59.1.1)\n",
      "Requirement already satisfied: google-auth<3,>=1.6.3 in /home/ec2-user/anaconda3/envs/tensorflow2_p38/lib/python3.8/site-packages (from tensorboard~=2.6->tensorflow) (2.6.2)\n",
      "Requirement already satisfied: tensorboard-data-server<0.7.0,>=0.6.0 in /home/ec2-user/anaconda3/envs/tensorflow2_p38/lib/python3.8/site-packages (from tensorboard~=2.6->tensorflow) (0.6.1)\n",
      "Requirement already satisfied: google-auth-oauthlib<0.5,>=0.4.1 in /home/ec2-user/anaconda3/envs/tensorflow2_p38/lib/python3.8/site-packages (from tensorboard~=2.6->tensorflow) (0.4.6)\n",
      "Requirement already satisfied: rsa<5,>=3.1.4 in /home/ec2-user/anaconda3/envs/tensorflow2_p38/lib/python3.8/site-packages (from google-auth<3,>=1.6.3->tensorboard~=2.6->tensorflow) (4.7.2)\n",
      "Requirement already satisfied: pyasn1-modules>=0.2.1 in /home/ec2-user/anaconda3/envs/tensorflow2_p38/lib/python3.8/site-packages (from google-auth<3,>=1.6.3->tensorboard~=2.6->tensorflow) (0.2.8)\n",
      "Requirement already satisfied: cachetools<6.0,>=2.0.0 in /home/ec2-user/anaconda3/envs/tensorflow2_p38/lib/python3.8/site-packages (from google-auth<3,>=1.6.3->tensorboard~=2.6->tensorflow) (5.0.0)\n",
      "Requirement already satisfied: requests-oauthlib>=0.7.0 in /home/ec2-user/anaconda3/envs/tensorflow2_p38/lib/python3.8/site-packages (from google-auth-oauthlib<0.5,>=0.4.1->tensorboard~=2.6->tensorflow) (1.3.1)\n",
      "Requirement already satisfied: importlib-metadata>=4.4 in /home/ec2-user/anaconda3/envs/tensorflow2_p38/lib/python3.8/site-packages (from markdown>=2.6.8->tensorboard~=2.6->tensorflow) (4.8.2)\n",
      "Requirement already satisfied: certifi>=2017.4.17 in /home/ec2-user/anaconda3/envs/tensorflow2_p38/lib/python3.8/site-packages (from requests<3,>=2.21.0->tensorboard~=2.6->tensorflow) (2021.10.8)\n",
      "Requirement already satisfied: charset-normalizer~=2.0.0 in /home/ec2-user/anaconda3/envs/tensorflow2_p38/lib/python3.8/site-packages (from requests<3,>=2.21.0->tensorboard~=2.6->tensorflow) (2.0.7)\n",
      "Requirement already satisfied: idna<4,>=2.5 in /home/ec2-user/anaconda3/envs/tensorflow2_p38/lib/python3.8/site-packages (from requests<3,>=2.21.0->tensorboard~=2.6->tensorflow) (3.1)\n",
      "Requirement already satisfied: zipp>=0.5 in /home/ec2-user/anaconda3/envs/tensorflow2_p38/lib/python3.8/site-packages (from importlib-metadata>=4.4->markdown>=2.6.8->tensorboard~=2.6->tensorflow) (3.6.0)\n",
      "Requirement already satisfied: pyasn1<0.5.0,>=0.4.6 in /home/ec2-user/anaconda3/envs/tensorflow2_p38/lib/python3.8/site-packages (from pyasn1-modules>=0.2.1->google-auth<3,>=1.6.3->tensorboard~=2.6->tensorflow) (0.4.8)\n",
      "Requirement already satisfied: oauthlib>=3.0.0 in /home/ec2-user/anaconda3/envs/tensorflow2_p38/lib/python3.8/site-packages (from requests-oauthlib>=0.7.0->google-auth-oauthlib<0.5,>=0.4.1->tensorboard~=2.6->tensorflow) (3.2.0)\n",
      "Installing collected packages: pyprind, botocore\n",
      "  Attempting uninstall: botocore\n",
      "    Found existing installation: botocore 1.24.19\n",
      "    Uninstalling botocore-1.24.19:\n",
      "      Successfully uninstalled botocore-1.24.19\n",
      "\u001b[31mERROR: pip's dependency resolver does not currently take into account all the packages that are installed. This behaviour is the source of the following dependency conflicts.\n",
      "awscli 1.25.38 requires botocore==1.27.38, but you have botocore 1.27.43 which is incompatible.\n",
      "aiobotocore 2.0.1 requires botocore<1.22.9,>=1.22.8, but you have botocore 1.27.43 which is incompatible.\u001b[0m\u001b[31m\n",
      "\u001b[0mSuccessfully installed botocore-1.27.43 pyprind-2.11.3\n",
      "\u001b[33mWARNING: You are using pip version 22.0.4; however, version 22.2 is available.\n",
      "You should consider upgrading via the '/home/ec2-user/anaconda3/envs/tensorflow2_p38/bin/python -m pip install --upgrade pip' command.\u001b[0m\u001b[33m\n",
      "\u001b[0m"
     ]
    }
   ],
   "source": [
    "!pip install boto3 keras s3fs tensorflow pyprind"
   ]
  },
  {
   "cell_type": "markdown",
   "id": "ccbd35ae",
   "metadata": {},
   "source": [
    "### Import Statements"
   ]
  },
  {
   "cell_type": "code",
   "execution_count": 3,
   "id": "17aca4be",
   "metadata": {},
   "outputs": [],
   "source": [
    "import os\n",
    "import csv\n",
    "import time\n",
    "import sys\n",
    "import random\n",
    "import tempfile\n",
    "import boto3\n",
    "import pyprind\n",
    "import cv2\n",
    "import tensorflow as tf\n",
    "import numpy as np\n",
    "import pandas as pd\n",
    "import matplotlib.pyplot as plt\n",
    "\n",
    "from sklearn.preprocessing import LabelEncoder\n",
    "from sklearn.model_selection import train_test_split\n",
    "from keras import losses, layers, optimizers\n",
    "from keras.models import Model\n",
    "from keras.layers import Input, Conv2D, MaxPooling2D, Flatten, Dense, Dropout, ZeroPadding2D, BatchNormalization, GlobalAveragePooling2D\n",
    "from keras.callbacks import EarlyStopping\n",
    "from PIL import ImageFile\n",
    "from tensorflow.python.keras.preprocessing.image import ImageDataGenerator\n",
    "from keras.applications.densenet import DenseNet121\n",
    "from keras.preprocessing.image import load_img, img_to_array, smart_resize"
   ]
  },
  {
   "cell_type": "markdown",
   "id": "be84ed3a",
   "metadata": {},
   "source": [
    "### Hyperparams"
   ]
  },
  {
   "cell_type": "code",
   "execution_count": 4,
   "id": "b50e3d5a",
   "metadata": {},
   "outputs": [],
   "source": [
    "S3_BUCKET = '76f71cf8-ac28-4d72-81a1-28db41a2e7c2'\n",
    "IMG_SIZE = (320, 320)\n",
    "classes = ['Cardiomegaly', 'nf']\n",
    "class_dict = {}\n",
    "for i, c in enumerate(classes):\n",
    "    key = np.array([0 for i in range(len(classes))])\n",
    "    key[i] = 1\n",
    "    class_dict[c] = key # i\n",
    "        \n",
    "ImageFile.LOAD_TRUNCATED_IMAGES = True"
   ]
  },
  {
   "cell_type": "code",
   "execution_count": 5,
   "id": "8dcd5769",
   "metadata": {},
   "outputs": [
    {
     "data": {
      "text/plain": [
       "{'Cardiomegaly': array([1, 0]), 'nf': array([0, 1])}"
      ]
     },
     "execution_count": 5,
     "metadata": {},
     "output_type": "execute_result"
    }
   ],
   "source": [
    "class_dict"
   ]
  },
  {
   "cell_type": "markdown",
   "id": "31d535b9",
   "metadata": {},
   "source": [
    "### Load Images Function (takes a few minutes)"
   ]
  },
  {
   "cell_type": "code",
   "execution_count": 6,
   "id": "4f51691a",
   "metadata": {},
   "outputs": [
    {
     "name": "stdout",
     "output_type": "stream",
     "text": [
      "Warning: No valid output stream.\n",
      "Loaded 1713 files.\n",
      "(1713, 320, 320, 3) (1713, 2)\n"
     ]
    }
   ],
   "source": [
    "def load_images(folder):\n",
    "    '''\n",
    "    Load num_images images from S3 and return X, y, and filename arrays. -1 is placeholder value.\n",
    "    Bucket structure:\n",
    "    $ tree\n",
    "    .\n",
    "    |---folder/\n",
    "        |---train/\n",
    "        |    |---class_1/\n",
    "        |    |---class_2/\n",
    "        |    |---...\n",
    "        |---test/\n",
    "             |---class_1/\n",
    "             |---class_2/\n",
    "             |---...\n",
    "    '''\n",
    "    # set up bucket\n",
    "    s3 = boto3.client(\"s3\")\n",
    "    S3_PREFIX = folder\n",
    "        \n",
    "    paginator = s3.get_paginator('list_objects_v2')\n",
    "    pages = paginator.paginate(Bucket=S3_BUCKET, Prefix=S3_PREFIX)\n",
    "\n",
    "    # get all filenames from bucket\n",
    "    s3_objects = []\n",
    "    for page in pages:\n",
    "        s3_objects += [obj[\"Key\"] for obj in page[\"Contents\"]]\n",
    "    arr_size = len(s3_objects)\n",
    "        \n",
    "    X, y, filenames = [0]*arr_size, [0]*arr_size, [0]*arr_size\n",
    "    \n",
    "    # IMPORTANT: there must be a / at the end of Prefix! ex: 'Strictly_Mass_and_NF/test/'\n",
    "    result = boto3.client(\"s3\").list_objects(Bucket=S3_BUCKET, Prefix=S3_PREFIX, Delimiter='/')\n",
    "        \n",
    "    # create temp directory to not clog memory\n",
    "    # Note: if the train or test folders are too large, may need to break this down into smaller chunks\n",
    "    with tempfile.TemporaryDirectory() as tempdir:\n",
    "\n",
    "        # create progress bar\n",
    "        bar = pyprind.ProgBar(len(s3_objects), title=\"Loading Images\", bar_char='█')\n",
    "        bar_count = 0\n",
    "\n",
    "        for i, s3_file in enumerate(s3_objects):\n",
    "            split_name = s3_file.split('/')\n",
    "            filename = split_name[-1]\n",
    "            label = split_name[-2]\n",
    "            local_file_path = os.path.join(tempdir, split_name[-1])\n",
    "            s3.download_file(S3_BUCKET, s3_file, local_file_path)\n",
    "            img = cv2.imread(local_file_path)\n",
    "            res = cv2.resize(img, dsize=IMG_SIZE, interpolation=cv2.INTER_CUBIC)\n",
    "            \n",
    "#             image_generator = tf.io.read_file(local_file_path) \n",
    "#             tensor = tf.io.decode_image(image_generator, channels=3, dtype=tf.dtypes.float32)\n",
    "#             tensor = tf.image.resize(tensor, [320, 320])\n",
    "#             img_tensor = tf.expand_dims(tensor, axis=0)\n",
    "            \n",
    "#             return res, img_tensor\n",
    "                \n",
    "            # store values from each image\n",
    "            X[i] = res #.reshape((3,)+IMG_SIZE)\n",
    "            y[i] = class_dict[label]\n",
    "            filenames[i] = filename\n",
    "\n",
    "            # update progress bar\n",
    "            bar_count += 1\n",
    "            bar.update(item_id=bar_count)\n",
    "#             if bar_count > num:\n",
    "#                 break\n",
    "\n",
    "        print(f\"Loaded {bar_count} files.\")\n",
    "        \n",
    "    # convert to arrays\n",
    "    X = np.array(X)\n",
    "    y = np.array(y)\n",
    "    filenames = np.array(filenames)\n",
    "        \n",
    "    return X, y, filenames\n",
    "\n",
    "data, labels, filenames = load_images('Strictly_Cardiomegaly_and_NF')\n",
    "print(data.shape, labels.shape)"
   ]
  },
  {
   "cell_type": "markdown",
   "id": "5eb0ce55",
   "metadata": {},
   "source": [
    "### Load model"
   ]
  },
  {
   "cell_type": "code",
   "execution_count": 117,
   "id": "3fc618ce",
   "metadata": {},
   "outputs": [],
   "source": [
    "model = tf.keras.models.load_model('best_model_v1.h5')\n",
    "# model.load_weights('25_multi_catcross_weights.h5')"
   ]
  },
  {
   "cell_type": "markdown",
   "id": "a15ddc4b",
   "metadata": {},
   "source": [
    "### Train, test, val split"
   ]
  },
  {
   "cell_type": "code",
   "execution_count": 9,
   "id": "3eadb4e4",
   "metadata": {},
   "outputs": [
    {
     "name": "stdout",
     "output_type": "stream",
     "text": [
      "Train size: 1371\n",
      "Validation size: 170\n",
      "Test size: 172\n"
     ]
    }
   ],
   "source": [
    "# mini_X_train, mini_y_train = X_train[:100], y_train[:100]\n",
    "x_train_and_val, x_test, y_train_and_val, y_test = train_test_split(data, labels, test_size=0.1, random_state=0)\n",
    "x_train, x_val, y_train, y_val = train_test_split(x_train_and_val, y_train_and_val, test_size=0.11, random_state=0)\n",
    "\n",
    "print('Train size:', x_train.shape[0])\n",
    "print('Validation size:', x_val.shape[0])\n",
    "print('Test size:', x_test.shape[0])"
   ]
  },
  {
   "cell_type": "markdown",
   "id": "19d064f0",
   "metadata": {},
   "source": [
    "### Evaluate Model "
   ]
  },
  {
   "cell_type": "code",
   "execution_count": 10,
   "id": "276aa6a6",
   "metadata": {},
   "outputs": [
    {
     "name": "stderr",
     "output_type": "stream",
     "text": [
      "/home/ec2-user/anaconda3/envs/tensorflow2_p38/lib/python3.8/site-packages/keras_preprocessing/image/numpy_array_iterator.py:129: UserWarning: NumpyArrayIterator is set to use the data format convention \"channels_first\" (channels on axis 1), i.e. expected either 1, 3, or 4 channels on axis 1. However, it was passed an array with shape (172, 320, 320, 3) (320 channels).\n",
      "  warnings.warn('NumpyArrayIterator is set to use the '\n",
      "/tmp/ipykernel_11454/1789312210.py:18: UserWarning: `Model.evaluate_generator` is deprecated and will be removed in a future version. Please use `Model.evaluate`, which supports generators.\n",
      "  test_eval = model.evaluate_generator(test_batches, steps = len(test_batches))\n"
     ]
    },
    {
     "name": "stdout",
     "output_type": "stream",
     "text": [
      "Test loss: 0.4763128459453583, Test accuracy: 0.7906976938247681\n"
     ]
    }
   ],
   "source": [
    "BATCH_SIZE = 4\n",
    "\n",
    "datagen = ImageDataGenerator(samplewise_center=True,\n",
    "                                 samplewise_std_normalization=True,\n",
    "#                                  dtype = 'int64',\n",
    "                                )\n",
    "\n",
    "# train_batches = datagen.flow(x_train, y_train, batch_size=BATCH_SIZE, shuffle=True)\n",
    "# train_eval = model.evaluate_generator(train_batches, steps = len(train_batches))\n",
    "# print(f'Train loss: {train_eval[0]}, Train accuracy: {train_eval[1]}')\n",
    "\n",
    "# val_batches = datagen.flow(x_val, y_val, batch_size=BATCH_SIZE, shuffle=False)\n",
    "# val_eval = model.evaluate_generator(val_batches, steps = len(val_batches))\n",
    "# print(f'Validation loss: {val_eval[0]}, Validation accuracy: {val_eval[1]}')\n",
    "\n",
    "# val and test have the same transformations\n",
    "test_batches = datagen.flow(x_test, y_test, batch_size=BATCH_SIZE, shuffle=False)\n",
    "test_eval = model.evaluate_generator(test_batches, steps = len(test_batches))\n",
    "print(f'Test loss: {test_eval[0]}, Test accuracy: {test_eval[1]}')"
   ]
  },
  {
   "cell_type": "markdown",
   "id": "b0cdf876",
   "metadata": {},
   "source": [
    "### Get Confusion Matrix"
   ]
  },
  {
   "cell_type": "code",
   "execution_count": 118,
   "id": "a9c1f2fc",
   "metadata": {},
   "outputs": [
    {
     "name": "stderr",
     "output_type": "stream",
     "text": [
      "/home/ec2-user/anaconda3/envs/tensorflow2_p38/lib/python3.8/site-packages/keras_preprocessing/image/numpy_array_iterator.py:129: UserWarning: NumpyArrayIterator is set to use the data format convention \"channels_first\" (channels on axis 1), i.e. expected either 1, 3, or 4 channels on axis 1. However, it was passed an array with shape (172, 320, 320, 3) (320 channels).\n",
      "  warnings.warn('NumpyArrayIterator is set to use the '\n"
     ]
    },
    {
     "name": "stdout",
     "output_type": "stream",
     "text": [
      "For test set (No finding)\n",
      "TP: 66\n",
      "TN: 67\n",
      "FP: 20\n",
      "FN: 19\n"
     ]
    }
   ],
   "source": [
    "from sklearn.metrics import confusion_matrix\n",
    "\n",
    "# all_batches = datagen.flow(data, labels, batch_size=len(data), shuffle=False)\n",
    "# all_pred = model.predict(next(all_batches)[0])\n",
    "\n",
    "# # overall confusion matrix\n",
    "# cm = confusion_matrix(np.argmin(labels, axis=1), np.argmin(all_pred, axis=1))\n",
    "# TP, TN, FP, FN = cm[0][0], cm[1][1], cm[0][1], cm[1][0]\n",
    "# print('For entire dataset')\n",
    "# print('TP:', TP)\n",
    "# print('TN:', TN)\n",
    "# print('FP:', FP)\n",
    "# print('FN:', FN)\n",
    "\n",
    "# test_batches = datagen.flow(x_test, y_test, batch_size=len(x_test), shuffle=False)\n",
    "# test_pred = model.predict(next(test_batches)[0])\n",
    "\n",
    "TN, FP, FN, TP = confusion_matrix(np.argmax(y_test, axis=1), np.argmax(test_pred, axis=1)).ravel()\n",
    "print('Confusion matrix for test set (No finding)')\n",
    "print('TP:', TP)\n",
    "print('TN:', TN)\n",
    "print('FP:', FP)\n",
    "print('FN:', FN)"
   ]
  },
  {
   "cell_type": "code",
   "execution_count": 119,
   "id": "21e54e89",
   "metadata": {},
   "outputs": [
    {
     "name": "stdout",
     "output_type": "stream",
     "text": [
      "For test set (Cardiomegaly)\n",
      "TP: 67\n",
      "TN: 66\n",
      "FP: 19\n",
      "FN: 20\n"
     ]
    }
   ],
   "source": [
    "# reverse axis so cardiomegaly is [0, 1] instead of the default [1, 0]\n",
    "card_labels = y_test.copy()\n",
    "card_labels[:, [1, 0]] = card_labels[:, [0, 1]]\n",
    "card_pred = test_pred.copy()\n",
    "card_pred[:, [1, 0]] = card_pred[:, [0, 1]]\n",
    "\n",
    "\n",
    "TN, FP, FN, TP = confusion_matrix(np.argmax(card_labels, axis=1), np.argmax(card_pred, axis=1)).ravel()\n",
    "print('Confusion matrix for test set (Cardiomegaly)')\n",
    "print('TP:', TP)\n",
    "print('TN:', TN)\n",
    "print('FP:', FP)\n",
    "print('FN:', FN)"
   ]
  },
  {
   "cell_type": "code",
   "execution_count": 120,
   "id": "05e15b39",
   "metadata": {},
   "outputs": [
    {
     "name": "stdout",
     "output_type": "stream",
     "text": [
      "For test set (Cardiomegaly)\n",
      "TP: 67\n",
      "TN: 66\n",
      "FP: 19\n",
      "FN: 20\n"
     ]
    }
   ],
   "source": [
    "# sanity check\n",
    "tp, tn, fp, fn = 0, 0, 0, 0\n",
    "for y, yhat in zip(y_test, test_pred):\n",
    "    pred_card = yhat[0]\n",
    "    true_card = y[0]\n",
    "    if pred_card > 0.5:\n",
    "        #tp or fp\n",
    "        if true_card > 0.5:\n",
    "            tp += 1\n",
    "        else:\n",
    "            fp += 1\n",
    "    else: #pred_nf > 0.5\n",
    "        #tn or fn\n",
    "        if true_card > 0.5:\n",
    "            fn += 1\n",
    "        else:\n",
    "            tn += 1    \n",
    "print('Confusion matrix for test set (Cardiomegaly)')\n",
    "print('TP:', tp)\n",
    "print('TN:', tn)\n",
    "print('FP:', fp)\n",
    "print('FN:', fn)"
   ]
  },
  {
   "cell_type": "markdown",
   "id": "f2ac6870",
   "metadata": {},
   "source": [
    "### Get AUC Score and ROC Curve"
   ]
  },
  {
   "cell_type": "code",
   "execution_count": 121,
   "id": "6641e906",
   "metadata": {},
   "outputs": [
    {
     "name": "stdout",
     "output_type": "stream",
     "text": [
      "NF roc_auc_score: 0.857606490872211\n",
      "Cardiomegaly roc_auc_score: 0.857606490872211\n"
     ]
    }
   ],
   "source": [
    "from sklearn.metrics import roc_auc_score, roc_curve\n",
    "\n",
    "# roc_auc_score(np.argmax(y_test, axis=1), np.argmax(test_pred, axis=1))\n",
    "nf_score = roc_auc_score(y_test, test_pred)\n",
    "card_score = roc_auc_score(card_labels, card_pred)\n",
    "print('NF roc_auc_score:', nf_score)\n",
    "print('Cardiomegaly roc_auc_score:', card_score)"
   ]
  },
  {
   "cell_type": "code",
   "execution_count": 123,
   "id": "04ea3a3b",
   "metadata": {},
   "outputs": [
    {
     "data": {
      "image/png": "[encoded data removed]",
      "text/plain": [
       "<Figure size 864x540 with 1 Axes>"
      ]
     },
     "metadata": {
      "needs_background": "light"
     },
     "output_type": "display_data"
    },
    {
     "name": "stdout",
     "output_type": "stream",
     "text": [
      "Confusion matrix for test set (No finding)\n",
      "TP: 67\n",
      "TN: 66\n",
      "FP: 19\n",
      "FN: 20\n",
      "Confusion matrix for test set (Cardiomegaly)\n",
      "TP: 67\n",
      "TN: 66\n",
      "FP: 19\n",
      "FN: 20\n"
     ]
    }
   ],
   "source": [
    "plt.figure(figsize=(8*1.5, 5*1.5))\n",
    "fpr, tpr, _ = roc_curve(y_test[:,1],  test_pred[:,1])\n",
    "plt.plot(fpr,tpr, label='No Finding')\n",
    "fpr, tpr, _ = roc_curve(card_labels[:,1],  card_pred[:,1])\n",
    "plt.plot(fpr,tpr, label='Cardiomegally')\n",
    "plt.plot(np.linspace(0, 1, 1000), np.linspace(0, 1, 1000), color='r')\n",
    "plt.ylabel('True Positive Rate')\n",
    "plt.xlabel('False Positive Rate')\n",
    "plt.title('ROC Curve')\n",
    "plt.legend(loc='lower right')\n",
    "plt.show()\n",
    "\n",
    "print('Confusion matrix for test set (No finding)')\n",
    "print('TP:', TP)\n",
    "print('TN:', TN)\n",
    "print('FP:', FP)\n",
    "print('FN:', FN)\n",
    "\n",
    "print('Confusion matrix for test set (Cardiomegaly)')\n",
    "print('TP:', tp)\n",
    "print('TN:', tn)\n",
    "print('FP:', fp)\n",
    "print('FN:', fn)"
   ]
  },
  {
   "cell_type": "markdown",
   "id": "ac6744a2",
   "metadata": {},
   "source": [
    "### Show preprocessing on 1 image"
   ]
  },
  {
   "cell_type": "code",
   "execution_count": 60,
   "id": "38d91dee",
   "metadata": {},
   "outputs": [
    {
     "name": "stderr",
     "output_type": "stream",
     "text": [
      "Clipping input data to the valid range for imshow with RGB data ([0..1] for floats or [0..255] for integers).\n"
     ]
    },
    {
     "name": "stdout",
     "output_type": "stream",
     "text": [
      "[[[-2.8000615  -2.8000615  -2.8000615 ]\n",
      "  [-2.8191614  -2.8191614  -2.8191614 ]\n",
      "  [-2.8376646  -2.8376646  -2.8376646 ]\n",
      "  ...\n",
      "  [ 0.54859626  0.54859626  0.54859626]\n",
      "  [ 0.5553604   0.5553604   0.5553604 ]\n",
      "  [ 0.7296522   0.7296522   0.7296522 ]]\n",
      "\n",
      " [[-2.8177688  -2.8177688  -2.8177688 ]\n",
      "  [-2.8293083  -2.8293083  -2.8293083 ]\n",
      "  [-2.8376646  -2.8376646  -2.8376646 ]\n",
      "  ...\n",
      "  [ 0.4063412   0.4063412   0.4063412 ]\n",
      "  [ 0.40713713  0.40713713  0.40713713]\n",
      "  [ 0.5611347   0.5611347   0.5611347 ]]\n",
      "\n",
      " [[-2.8376646  -2.8376646  -2.8376646 ]\n",
      "  [-2.8376646  -2.8376646  -2.8376646 ]\n",
      "  [-2.8376646  -2.8376646  -2.8376646 ]\n",
      "  ...\n",
      "  [ 0.3904247   0.3904247   0.3904247 ]\n",
      "  [ 0.40833068  0.40833068  0.40833068]\n",
      "  [ 0.56053686  0.56053686  0.56053686]]\n",
      "\n",
      " ...\n",
      "\n",
      " [[ 0.2521492   0.2521492   0.2521492 ]\n",
      "  [ 0.13575894  0.13575894  0.13575894]\n",
      "  [ 0.1268058   0.1268058   0.1268058 ]\n",
      "  ...\n",
      "  [-0.11691733 -0.11691733 -0.11691733]\n",
      "  [-0.02141714 -0.02141714 -0.02141714]\n",
      "  [ 0.15963791  0.15963791  0.15963791]]\n",
      "\n",
      " [[ 0.28517637  0.28517637  0.28517637]\n",
      "  [ 0.1725661   0.1725661   0.1725661 ]\n",
      "  [ 0.16659734  0.16659734  0.16659734]\n",
      "  ...\n",
      "  [-0.17561036 -0.17561036 -0.17561036]\n",
      "  [-0.05822461 -0.05822461 -0.05822461]\n",
      "  [ 0.12939645  0.12939645  0.12939645]]\n",
      "\n",
      " [[ 0.46304595  0.46304595  0.46304595]\n",
      "  [ 0.3158182   0.3158182   0.3158182 ]\n",
      "  [ 0.3466563   0.3466563   0.3466563 ]\n",
      "  ...\n",
      "  [-0.08707231 -0.08707231 -0.08707231]\n",
      "  [ 0.02116192  0.02116192  0.02116192]\n",
      "  [ 0.2207199   0.2207199   0.2207199 ]]]\n"
     ]
    },
    {
     "data": {
      "image/png": "[encoded data removed]",
      "text/plain": [
       "<Figure size 432x288 with 1 Axes>"
      ]
     },
     "metadata": {
      "needs_background": "light"
     },
     "output_type": "display_data"
    }
   ],
   "source": [
    "x, y = test\n",
    "\n",
    "datagen = ImageDataGenerator(\n",
    "                           samplewise_center=True,\n",
    "                           samplewise_std_normalization=True,\n",
    "                           dtype = 'int64')\n",
    "\n",
    "img = next(datagen.flow(np.array([y[0]]), np.array([np.array([1, 0])]), batch_size=1))[0][0]\n",
    "\n",
    "plt.imshow(img)\n",
    "# x[0]\n",
    "# print(x[0])\n",
    "# y[0]\n",
    "\n",
    "model.predict(np.array([img]))\n",
    "print(img)"
   ]
  },
  {
   "cell_type": "code",
   "execution_count": 67,
   "id": "e54b4a85",
   "metadata": {},
   "outputs": [
    {
     "name": "stderr",
     "output_type": "stream",
     "text": [
      "Clipping input data to the valid range for imshow with RGB data ([0..1] for floats or [0..255] for integers).\n"
     ]
    },
    {
     "data": {
      "text/plain": [
       "array([[[-2.776232  , -2.776232  , -2.776232  ],\n",
       "        [-2.815982  , -2.815982  , -2.815982  ],\n",
       "        [-2.8358572 , -2.8358572 , -2.8358572 ],\n",
       "        ...,\n",
       "        [ 0.66215307,  0.66215307,  0.66215307],\n",
       "        [ 0.66215307,  0.66215307,  0.66215307],\n",
       "        [ 0.9602789 ,  0.9602789 ,  0.9602789 ]],\n",
       "\n",
       "       [[-2.815982  , -2.815982  , -2.815982  ],\n",
       "        [-2.8358572 , -2.8358572 , -2.8358572 ],\n",
       "        [-2.8358572 , -2.8358572 , -2.8358572 ],\n",
       "        ...,\n",
       "        [ 0.4037773 ,  0.4037773 ,  0.4037773 ],\n",
       "        [ 0.4037773 ,  0.4037773 ,  0.4037773 ],\n",
       "        [ 0.66215307,  0.66215307,  0.66215307]],\n",
       "\n",
       "       [[-2.8358572 , -2.8358572 , -2.8358572 ],\n",
       "        [-2.8358572 , -2.8358572 , -2.8358572 ],\n",
       "        [-2.8358572 , -2.8358572 , -2.8358572 ],\n",
       "        ...,\n",
       "        [ 0.38390225,  0.38390225,  0.38390225],\n",
       "        [ 0.4037773 ,  0.4037773 ,  0.4037773 ],\n",
       "        [ 0.66215307,  0.66215307,  0.66215307]],\n",
       "\n",
       "       ...,\n",
       "\n",
       "       [[ 0.32427707,  0.32427707,  0.32427707],\n",
       "        [ 0.1255265 ,  0.1255265 ,  0.1255265 ],\n",
       "        [ 0.1255265 ,  0.1255265 ,  0.1255265 ],\n",
       "        ...,\n",
       "        [-0.11297419, -0.11297419, -0.11297419],\n",
       "        [-0.0135989 , -0.0135989 , -0.0135989 ],\n",
       "        [ 0.24477684,  0.24477684,  0.24477684]],\n",
       "\n",
       "       [[ 0.3640272 ,  0.3640272 ,  0.3640272 ],\n",
       "        [ 0.16527662,  0.16527662,  0.16527662],\n",
       "        [ 0.16527662,  0.16527662,  0.16527662],\n",
       "        ...,\n",
       "        [-0.19247442, -0.19247442, -0.19247442],\n",
       "        [-0.05334901, -0.05334901, -0.05334901],\n",
       "        [ 0.20502673,  0.20502673,  0.20502673]],\n",
       "\n",
       "       [[ 0.6820281 ,  0.6820281 ,  0.6820281 ],\n",
       "        [ 0.42365238,  0.42365238,  0.42365238],\n",
       "        [ 0.46340248,  0.46340248,  0.46340248],\n",
       "        ...,\n",
       "        [ 0.00627616,  0.00627616,  0.00627616],\n",
       "        [ 0.1255265 ,  0.1255265 ,  0.1255265 ],\n",
       "        [ 0.42365238,  0.42365238,  0.42365238]]], dtype=float32)"
      ]
     },
     "execution_count": 67,
     "metadata": {},
     "output_type": "execute_result"
    },
    {
     "data": {
      "image/png": "[encoded data removed]",
      "text/plain": [
       "<Figure size 432x288 with 1 Axes>"
      ]
     },
     "metadata": {
      "needs_background": "light"
     },
     "output_type": "display_data"
    }
   ],
   "source": [
    "datagen = ImageDataGenerator(\n",
    "                           samplewise_center=True,\n",
    "                           samplewise_std_normalization=True)\n",
    "\n",
    "img = next(datagen.flow(np.array([x]), np.array([np.array([1, 0])]), batch_size=1))[0][0]\n",
    "plt.imshow(img)\n",
    "img"
   ]
  },
  {
   "cell_type": "code",
   "execution_count": 195,
   "id": "e532f791",
   "metadata": {},
   "outputs": [
    {
     "data": {
      "text/plain": [
       "<matplotlib.image.AxesImage at 0x7f9543e5b820>"
      ]
     },
     "execution_count": 195,
     "metadata": {},
     "output_type": "execute_result"
    },
    {
     "data": {
      "image/png": "[encoded data removed]",
      "text/plain": [
       "<Figure size 432x288 with 1 Axes>"
      ]
     },
     "metadata": {
      "needs_background": "light"
     },
     "output_type": "display_data"
    }
   ],
   "source": [
    "res_data = data#.reshape((data.shape[0],) + IMG_SIZE + (3,))\n",
    "plt.imshow(res_data[0])"
   ]
  },
  {
   "cell_type": "markdown",
   "id": "b9447ec2",
   "metadata": {},
   "source": [
    "### Change channels to NHWC format (num_samples, height, width, channels)"
   ]
  },
  {
   "cell_type": "code",
   "execution_count": 196,
   "id": "0b4dec3e",
   "metadata": {},
   "outputs": [
    {
     "data": {
      "text/plain": [
       "'channels_last'"
      ]
     },
     "execution_count": 196,
     "metadata": {},
     "output_type": "execute_result"
    }
   ],
   "source": [
    "# IMPORTANT: Change channels to channels_last so it will load in correctly when using DenseNet!\n",
    "tf.keras.backend.set_image_data_format('channels_last') \n",
    "tf.keras.backend.image_data_format()"
   ]
  },
  {
   "cell_type": "markdown",
   "id": "3ce4a436",
   "metadata": {},
   "source": [
    "### Create Data Generators"
   ]
  },
  {
   "cell_type": "code",
   "execution_count": 197,
   "id": "526b4ac0",
   "metadata": {},
   "outputs": [
    {
     "name": "stdout",
     "output_type": "stream",
     "text": [
      "(1713, 320, 320, 3) (5, 320, 320, 3)\n"
     ]
    }
   ],
   "source": [
    "# testing cell\n",
    "\n",
    "import time\n",
    "\n",
    "mg = data[6].reshape(1, 320, 320, 3)\n",
    "\n",
    "datagen = ImageDataGenerator(\n",
    "                                   rotation_range=10,\n",
    "                                   width_shift_range=0.2,\n",
    "                                   height_shift_range=0.2,\n",
    "                                   shear_range=0.2,\n",
    "                                   zoom_range=0.2,\n",
    "                                   channel_shift_range=10,\n",
    "                                   fill_mode='nearest',\n",
    "                                   samplewise_center=True,\n",
    "                                   samplewise_std_normalization=True,\n",
    "                                   dtype = 'int64',\n",
    "                                   data_format = 'channels_first'\n",
    ")\n",
    "\n",
    "train_batches = datagen.flow(data, labels, batch_size=5, shuffle=True)\n",
    "train_data, train_labels = next(train_batches)\n",
    "\n",
    "print(data.shape, train_data.shape)\n",
    "# train_data = train_data.reshape((train_data.shape[0],) + (3,) + IMG_SIZE)\n",
    "# print(train_data.shape, train_labels.shape)\n",
    "\n",
    "# print(train_data[0].reshape(320, 320, 3).shape)\n",
    "# plt.imshow(train_data[0].reshape(320, 320, 3))#.astype('uint8')) # IMPORTANT: CAN TAKE OUT UINT8 IF YOU UNCOMMENT TRANSFORMATION IN DATAGEN. GETS ORIGINAL IMAGE\n",
    "# plt.show()\n",
    "\n",
    "\n",
    "# aug_iter = datagen.flow(img, batch_size=1)\n",
    "\n",
    "# # generate samples and plot\n",
    "# fig, ax = plt.subplots(nrows=1, ncols=3, figsize=(15,15))\n",
    "\n",
    "# # generate batch of images\n",
    "# for i in range(3):\n",
    "\n",
    "#     # convert to unsigned integers\n",
    "#     temp = next(aug_iter)[0]\n",
    "# #     print(temp)\n",
    "#     image = temp.astype('uint8')\n",
    " \n",
    "#     # plot image\n",
    "#     ax[i].imshow(image)\n",
    "#     ax[i].axis('off')"
   ]
  },
  {
   "cell_type": "markdown",
   "id": "cbc2e2f6",
   "metadata": {},
   "source": [
    "### Data Aug Function"
   ]
  },
  {
   "cell_type": "code",
   "execution_count": 198,
   "id": "d6515067",
   "metadata": {},
   "outputs": [],
   "source": [
    "def datagen(model, x_train, y_train, x_val, y_val, NUM_EPOCHS, BATCH_SIZE, callback): \n",
    "    \n",
    "    train_datagen = ImageDataGenerator(rotation_range=10,\n",
    "                                       width_shift_range=0.2,\n",
    "                                       height_shift_range=0.2,\n",
    "                                       shear_range=0.2,\n",
    "                                       zoom_range=0.2,\n",
    "                                       channel_shift_range=10,\n",
    "                                       fill_mode='nearest',\n",
    "                                       samplewise_center=True,\n",
    "                                       samplewise_std_normalization=True,\n",
    "                                       dtype = 'int64',\n",
    "#                                        data_format = 'channels_first',\n",
    "                                      )\n",
    "\n",
    "    train_batches = train_datagen.flow(x_train, y_train, batch_size=BATCH_SIZE, shuffle=True)\n",
    "#     train_data, train_labels = next(train_batches)\n",
    "#     train_data = train_data.reshape((train_data.shape[0],) + (3,) + IMG_SIZE)\n",
    "#     print(f'Generated {len(train_data)} train images.')\n",
    "    \n",
    "    val_datagen = ImageDataGenerator(samplewise_center=True,\n",
    "                                     samplewise_std_normalization=True,\n",
    "                                     dtype = 'int64',\n",
    "#                                      data_format = 'channels_first',\n",
    "                                    )\n",
    "    \n",
    "    val_batches = val_datagen.flow(x_val, y_val, batch_size=BATCH_SIZE, shuffle=False)\n",
    "#     val_data, val_labels = next(val_batches)\n",
    "#     val_data = val_data.reshape((val_data.shape[0],) + (3,) + IMG_SIZE)\n",
    "\n",
    "# #print sample\n",
    "#     print(train_data[0].reshape(320, 320, 3).shape)\n",
    "#     plt.imshow(train_data[0].reshape(320, 320, 3))\n",
    "#     plt.show()\n",
    "    \n",
    "#     val_idx = 4\n",
    "#     print(val_data[val_idx].reshape(320, 320, 3).shape)\n",
    "#     plt.imshow(val_data[val_idx].reshape(320, 320, 3))\n",
    "#     plt.show()\n",
    "    \n",
    "#     history = model.fit(train_data,\n",
    "#                         train_labels,\n",
    "# #                         steps_per_epoch = int(len(y_train) // BATCH_SIZE),\n",
    "#                         validation_data = val_data,\n",
    "# #                         validation_steps = int(len(y_val) // BATCH_SIZE),\n",
    "#                         batch_size = BATCH_SIZE,\n",
    "#                         epochs = NUM_EPOCHS,\n",
    "#                         verbose=1,\n",
    "#                         callbacks=callback)\n",
    "\n",
    "    history = model.fit_generator(train_batches,\n",
    "                            steps_per_epoch = int(len(y_train) // BATCH_SIZE),\n",
    "                            validation_data = val_batches,\n",
    "                            validation_steps = int(len(y_val) // BATCH_SIZE),\n",
    "                            epochs = NUM_EPOCHS,\n",
    "                            verbose=1,\n",
    "                            callbacks=callback)\n",
    "    return history\n",
    "\n"
   ]
  },
  {
   "cell_type": "markdown",
   "id": "c97c6277",
   "metadata": {},
   "source": [
    "### Split into train, test, val"
   ]
  },
  {
   "cell_type": "code",
   "execution_count": 199,
   "id": "4eaf952b",
   "metadata": {},
   "outputs": [
    {
     "name": "stdout",
     "output_type": "stream",
     "text": [
      "Train size: 1371\n",
      "Validation size: 170\n",
      "Test size: 172\n"
     ]
    }
   ],
   "source": [
    "# mini_X_train, mini_y_train = X_train[:100], y_train[:100]\n",
    "x_train_and_val, x_test, y_train_and_val, y_test = train_test_split(data, labels, test_size=0.1)\n",
    "x_train, x_val, y_train, y_val = train_test_split(x_train_and_val, y_train_and_val, test_size=0.11)\n",
    "\n",
    "print('Train size:', x_train.shape[0])\n",
    "print('Validation size:', x_val.shape[0])\n",
    "print('Test size:', x_test.shape[0])"
   ]
  },
  {
   "cell_type": "code",
   "execution_count": 200,
   "id": "7bd9476c",
   "metadata": {},
   "outputs": [
    {
     "name": "stdout",
     "output_type": "stream",
     "text": [
      "Train distribution:\n",
      " [0 1]    709\n",
      "[1 0]    662\n",
      "dtype: int64\n",
      "Test distribution:\n",
      " [0 1]    89\n",
      "[1 0]    83\n",
      "dtype: int64\n"
     ]
    }
   ],
   "source": [
    "# print class distributions\n",
    "print('Train distribution:\\n', pd.Series([str(y) for y in y_train]).value_counts())\n",
    "print('Test distribution:\\n', pd.Series([str(y) for y in y_test]).value_counts())"
   ]
  },
  {
   "cell_type": "markdown",
   "id": "00fb38b2",
   "metadata": {},
   "source": [
    "### Define Model"
   ]
  },
  {
   "cell_type": "code",
   "execution_count": 213,
   "id": "bafa7d08",
   "metadata": {},
   "outputs": [],
   "source": [
    "# create the base pre-trained model\n",
    "base_model = DenseNet121(\n",
    "    weights='/home/ec2-user/SageMaker/Cardiomegaly /densenet.hdf5', \n",
    "    include_top=False)\n",
    "\n",
    "x = base_model.output\n",
    "\n",
    "# add a global spatial average pooling layer\n",
    "x = GlobalAveragePooling2D()(x)\n",
    "\n",
    "# and a logistic layer\n",
    "predictions = Dense(2, activation=\"softmax\")(x)\n",
    "\n",
    "model = Model(inputs=base_model.input, outputs=predictions)\n",
    "model.compile(optimizer='adam', loss='categorical_crossentropy', metrics=['accuracy'])"
   ]
  },
  {
   "cell_type": "code",
   "execution_count": 203,
   "id": "1735039d",
   "metadata": {},
   "outputs": [],
   "source": [
    "# input = Input(shape=(None, , 720, 3), name='image_input')\n",
    "# base_model.summary()"
   ]
  },
  {
   "cell_type": "code",
   "execution_count": 204,
   "id": "d6527775",
   "metadata": {},
   "outputs": [
    {
     "name": "stdout",
     "output_type": "stream",
     "text": [
      "memory.used [MiB]\n",
      "16156 MiB\n"
     ]
    }
   ],
   "source": [
    "# !nvidia-smi --query-gpu=memory.used --format=csv"
   ]
  },
  {
   "cell_type": "markdown",
   "id": "ba36a38c",
   "metadata": {},
   "source": [
    "### Transform and Fit Model"
   ]
  },
  {
   "cell_type": "code",
   "execution_count": 211,
   "id": "8fce9432",
   "metadata": {},
   "outputs": [
    {
     "data": {
      "text/plain": [
       "(170, 2)"
      ]
     },
     "execution_count": 211,
     "metadata": {},
     "output_type": "execute_result"
    }
   ],
   "source": [
    "y_val.shape"
   ]
  },
  {
   "cell_type": "code",
   "execution_count": 214,
   "id": "6c976b0c",
   "metadata": {},
   "outputs": [
    {
     "name": "stderr",
     "output_type": "stream",
     "text": [
      "/tmp/ipykernel_3741/426432164.py:51: UserWarning: `Model.fit_generator` is deprecated and will be removed in a future version. Please use `Model.fit`, which supports generators.\n",
      "  history = model.fit_generator(train_batches,\n"
     ]
    },
    {
     "name": "stdout",
     "output_type": "stream",
     "text": [
      "Epoch 1/10\n",
      "342/342 [==============================] - 72s 178ms/step - loss: 0.7495 - accuracy: 0.5494 - val_loss: 18.0789 - val_accuracy: 0.4405\n",
      "Epoch 2/10\n",
      "342/342 [==============================] - 59s 171ms/step - loss: 0.7152 - accuracy: 0.5596 - val_loss: 2.6013 - val_accuracy: 0.4940\n",
      "Epoch 3/10\n",
      "342/342 [==============================] - 58s 171ms/step - loss: 0.7058 - accuracy: 0.5735 - val_loss: 2.2485 - val_accuracy: 0.5000\n",
      "Epoch 4/10\n",
      "342/342 [==============================] - 58s 170ms/step - loss: 0.6970 - accuracy: 0.5845 - val_loss: 0.7841 - val_accuracy: 0.5179\n",
      "Epoch 5/10\n",
      "342/342 [==============================] - 59s 171ms/step - loss: 0.6704 - accuracy: 0.6181 - val_loss: 1.4158 - val_accuracy: 0.5060\n",
      "Epoch 6/10\n",
      "342/342 [==============================] - 58s 171ms/step - loss: 0.6525 - accuracy: 0.6313 - val_loss: 0.8100 - val_accuracy: 0.5476\n",
      "Epoch 7/10\n",
      "342/342 [==============================] - 59s 171ms/step - loss: 0.6468 - accuracy: 0.6467 - val_loss: 0.5062 - val_accuracy: 0.7917\n",
      "Epoch 8/10\n",
      "342/342 [==============================] - 58s 170ms/step - loss: 0.6101 - accuracy: 0.6767 - val_loss: 2.0930 - val_accuracy: 0.4940\n",
      "Epoch 9/10\n",
      "342/342 [==============================] - 59s 171ms/step - loss: 0.6535 - accuracy: 0.6211 - val_loss: 22.6878 - val_accuracy: 0.5060\n",
      "Epoch 10/10\n",
      "342/342 [==============================] - 59s 172ms/step - loss: 0.6165 - accuracy: 0.6759 - val_loss: 0.7096 - val_accuracy: 0.5952\n"
     ]
    }
   ],
   "source": [
    "EPOCHS = 10\n",
    "BATCH_SIZE = 4\n",
    "\n",
    "model_history = datagen(model, x_train, y_train, x_val, y_val, EPOCHS, BATCH_SIZE, [])"
   ]
  },
  {
   "cell_type": "code",
   "execution_count": 217,
   "id": "4284d15d",
   "metadata": {},
   "outputs": [
    {
     "data": {
      "image/png": "[encoded data removed]",
      "text/plain": [
       "<Figure size 432x288 with 1 Axes>"
      ]
     },
     "metadata": {
      "needs_background": "light"
     },
     "output_type": "display_data"
    },
    {
     "data": {
      "image/png": "[encoded data removed]",
      "text/plain": [
       "<Figure size 432x288 with 1 Axes>"
      ]
     },
     "metadata": {
      "needs_background": "light"
     },
     "output_type": "display_data"
    }
   ],
   "source": [
    "# summarize history for accuracy\n",
    "plt.plot(model_history.history['accuracy'])\n",
    "plt.plot(model_history.history['val_accuracy'])\n",
    "plt.title('model accuracy')\n",
    "plt.ylabel('accuracy')\n",
    "plt.xlabel('epoch')\n",
    "plt.legend(['train', 'test'], loc='upper left')\n",
    "plt.show()\n",
    "\n",
    "# summarize history for loss\n",
    "plt.plot(model_history.history['loss'])\n",
    "plt.plot(model_history.history['val_loss'])\n",
    "plt.title('model loss')\n",
    "plt.ylabel('loss')\n",
    "plt.xlabel('epoch')\n",
    "plt.legend(['train', 'test'], loc='upper left')\n",
    "plt.show()"
   ]
  },
  {
   "cell_type": "code",
   "execution_count": 218,
   "id": "f6515dbe",
   "metadata": {},
   "outputs": [
    {
     "name": "stderr",
     "output_type": "stream",
     "text": [
      "/tmp/ipykernel_3741/1785479581.py:13: UserWarning: `Model.evaluate_generator` is deprecated and will be removed in a future version. Please use `Model.evaluate`, which supports generators.\n",
      "  train_eval = model.evaluate_generator(train_batches, steps = len(train_batches))\n"
     ]
    },
    {
     "name": "stdout",
     "output_type": "stream",
     "text": [
      "Train loss: 0.7323919534683228, Train accuracy: 0.6017505526542664\n"
     ]
    },
    {
     "name": "stderr",
     "output_type": "stream",
     "text": [
      "/tmp/ipykernel_3741/1785479581.py:21: UserWarning: `Model.evaluate_generator` is deprecated and will be removed in a future version. Please use `Model.evaluate`, which supports generators.\n",
      "  val_eval = model.evaluate_generator(val_batches, steps = len(val_batches))\n"
     ]
    },
    {
     "name": "stdout",
     "output_type": "stream",
     "text": [
      "Validation loss: 0.7319290637969971, Validation accuracy: 0.5882353186607361\n"
     ]
    },
    {
     "name": "stderr",
     "output_type": "stream",
     "text": [
      "/tmp/ipykernel_3741/1785479581.py:30: UserWarning: `Model.evaluate_generator` is deprecated and will be removed in a future version. Please use `Model.evaluate`, which supports generators.\n",
      "  test_eval = model.evaluate_generator(test_batches, steps = len(test_batches))\n"
     ]
    },
    {
     "name": "stdout",
     "output_type": "stream",
     "text": [
      "Test loss: 0.6620050668716431, Test accuracy: 0.6511628031730652\n"
     ]
    }
   ],
   "source": [
    "train_datagen = ImageDataGenerator(rotation_range=10,\n",
    "                                   width_shift_range=0.2,\n",
    "                                   height_shift_range=0.2,\n",
    "                                   shear_range=0.2,\n",
    "                                   zoom_range=0.2,\n",
    "                                   channel_shift_range=10,\n",
    "                                   fill_mode='nearest',\n",
    "                                   samplewise_center=True,\n",
    "                                   samplewise_std_normalization=True,\n",
    "                                   dtype = 'int64',\n",
    "                                  )\n",
    "train_batches = train_datagen.flow(x_train, y_train, batch_size=BATCH_SIZE, shuffle=True)\n",
    "train_eval = model.evaluate_generator(train_batches, steps = len(train_batches))\n",
    "print(f'Train loss: {train_eval[0]}, Train accuracy: {train_eval[1]}')\n",
    "\n",
    "val_datagen = ImageDataGenerator(samplewise_center=True,\n",
    "                                 samplewise_std_normalization=True,\n",
    "                                 dtype = 'int64',\n",
    "                                )\n",
    "val_batches = val_datagen.flow(x_val, y_val, batch_size=BATCH_SIZE, shuffle=False)\n",
    "val_eval = model.evaluate_generator(val_batches, steps = len(val_batches))\n",
    "print(f'Validation loss: {val_eval[0]}, Validation accuracy: {val_eval[1]}')\n",
    "\n",
    "# val and test have the same transformations\n",
    "test_batches = val_datagen.flow(x_test, y_test, batch_size=BATCH_SIZE, shuffle=False)\n",
    "test_eval = model.evaluate_generator(test_batches, steps = len(test_batches))\n",
    "print(f'Test loss: {test_eval[0]}, Test accuracy: {test_eval[1]}')"
   ]
  },
  {
   "cell_type": "code",
   "execution_count": null,
   "id": "51e818c6",
   "metadata": {},
   "outputs": [],
   "source": []
  }
 ],
 "metadata": {
  "kernelspec": {
   "display_name": "conda_tensorflow2_p38",
   "language": "python",
   "name": "conda_tensorflow2_p38"
  },
  "language_info": {
   "codemirror_mode": {
    "name": "ipython",
    "version": 3
   },
   "file_extension": ".py",
   "mimetype": "text/x-python",
   "name": "python",
   "nbconvert_exporter": "python",
   "pygments_lexer": "ipython3",
   "version": "3.8.12"
  }
 },
 "nbformat": 4,
 "nbformat_minor": 5
}
